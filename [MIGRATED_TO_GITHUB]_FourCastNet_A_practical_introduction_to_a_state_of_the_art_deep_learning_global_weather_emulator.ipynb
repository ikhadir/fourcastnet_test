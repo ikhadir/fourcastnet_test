{
  "cells": [
    {
      "cell_type": "markdown",
      "metadata": {
        "id": "view-in-github",
        "colab_type": "text"
      },
      "source": [
        "<a href=\"https://colab.research.google.com/github/ikhadir/fourcastnet_test/blob/main/%5BMIGRATED_TO_GITHUB%5D_FourCastNet_A_practical_introduction_to_a_state_of_the_art_deep_learning_global_weather_emulator.ipynb\" target=\"_parent\"><img src=\"https://colab.research.google.com/assets/colab-badge.svg\" alt=\"Open In Colab\"/></a>"
      ]
    },
    {
      "cell_type": "code",
      "execution_count": 8,
      "metadata": {
        "id": "dzeHYa5GCxN7"
      },
      "outputs": [],
      "source": [
        "# MIT License\n",
        "#\n",
        "#@title Copyright (c) 2021 CCAI Community Authors { display-mode: \"form\" }\n",
        "#\n",
        "# Permission is hereby granted, free of charge, to any person obtaining a\n",
        "# copy of this software and associated documentation files (the \"Software\"),\n",
        "# to deal in the Software without restriction, including without limitation\n",
        "# the rights to use, copy, modify, merge, publish, distribute, sublicense,\n",
        "# and/or sell copies of the Software, and to permit persons to whom the\n",
        "# Software is furnished to do so, subject to the following conditions:\n",
        "#\n",
        "# The above copyright notice and this permission notice shall be included in\n",
        "# all copies or substantial portions of the Software.\n",
        "#\n",
        "# THE SOFTWARE IS PROVIDED \"AS IS\", WITHOUT WARRANTY OF ANY KIND, EXPRESS OR\n",
        "# IMPLIED, INCLUDING BUT NOT LIMITED TO THE WARRANTIES OF MERCHANTABILITY,\n",
        "# FITNESS FOR A PARTICULAR PURPOSE AND NONINFRINGEMENT. IN NO EVENT SHALL\n",
        "# THE AUTHORS OR COPYRIGHT HOLDERS BE LIABLE FOR ANY CLAIM, DAMAGES OR OTHER\n",
        "# LIABILITY, WHETHER IN AN ACTION OF CONTRACT, TORT OR OTHERWISE, ARISING\n",
        "# FROM, OUT OF OR IN CONNECTION WITH THE SOFTWARE OR THE USE OR OTHER\n",
        "# DEALINGS IN THE SOFTWARE."
      ]
    },
    {
      "cell_type": "markdown",
      "metadata": {
        "id": "13i7KQ9t-CV8",
        "jp-MarkdownHeadingCollapsed": true,
        "tags": []
      },
      "source": [
        "# FourCastNet: A practical introduction to a state-of-the-art deep learning global weather emulator\n",
        "\n",
        "Author(s):\n",
        "*   Jaideep Pathak, NVIDIA, jpathak@nvidia.com\n",
        "*   Shashank Subramanian, LBNL, shashanksubramanian@lbl.gov\n",
        "*   Peter Harrington, LBNL, pharrington@lbl.gov\n",
        "*   Thorsten Kurth, NVIDIA, tkurth@nvidia.com\n",
        "*   Andre Graubner, NVIDIA, agraubner@nvidia.com\n",
        "*   Morteza Mardani, NVIDIA, mmardani@nvidia.com\n",
        "*   David Hall, NVIDIA, dhall@nvidia.com\n",
        "*   Karthik Kashinath, NVIDIA, kkashinath@nvidia.com\n",
        "*   Anima Anandkumar, NVIDIA, aanandkumar@nvidia.com\n",
        "\n",
        "\n",
        "This notebook is a tutorial for running FourCastNet, a state-of-the-art global high-resolution weather model surrogate, to generate short time-scale forecasts of important atmospheric variables."
      ]
    },
    {
      "cell_type": "markdown",
      "metadata": {
        "id": "yNv0ANr5WcD_"
      },
      "source": [
        "# Table of Contents\n",
        "\n",
        "\n",
        "*   [Overview](#overview)\n",
        "*   [Climate Impact](#climate-impact)\n",
        "*   [Target Audience](#target-audience)\n",
        "*   [Background & Prerequisites](#background-and-prereqs)\n",
        "*   [Software Requirements](#software-requirements)\n",
        "*   [Data Description](#data-description)\n",
        "*   [Methodology](#methodology)\n",
        "*   [Results & Discussion](#results-and-discussion)\n",
        "*   [References](#references)\n"
      ]
    },
    {
      "cell_type": "markdown",
      "metadata": {
        "id": "QH81wjfsJsv1"
      },
      "source": [
        "<a name=\"overview\"></a>\n",
        "# Overview\n",
        "\n",
        "This tutorial provides examples to demonstrate the general workflow of working with global atmospheric data and using FourCastNet, a deep learning based weather model, to obtain short to medium-range forecasts of crucial atmospheric variables such as surface wind velocities. FourCastNet can perform these forecasts in a matter of seconds, orders of magnitudes faster and more energy efficient than numerical weather prediction models with accuracy close to that of the best NWP models based on partial differential equation solvers. FourCastNet is the current state-of-the-art deep learning-based surrogate for weather models operating at an unprecedented resolution of 25km. FourCastNet is built using standard machine learning libraries and can be deployed in inference easily. Here, we aim to demonstrate to our users the following:\n",
        "* work with global weather data from the most comprehensive atmpospheric reanalysis public dataset ERA5 (data assimilated predictions of the historical global atmoshpheric state).\n",
        "* use FourCastNet on inputs from this dataset to generate short-time scale forecasts of several important atmospheric variables in a matter of seconds.\n",
        "* visualize the global predictions and compute key metrics to evaluate the forecast skill.\n",
        "* capture several different types of significant extreme events such as hurricanes and atmospheric rivers.\n",
        "\n",
        "FourCastNet was trained using significant computational resources that are not always readily available to the academic research community. The trained model weights, code and datasets are shared freely in order to enable broader access to our research. This tutorial is a step towards increasing the accessibility of our work.\n",
        "\n",
        "Reference:\n",
        "1. [Pathak el al., 2022](https://arxiv.org/abs/2202.11214)\n",
        "2. [Github](https://github.com/NVlabs/FourCastNet)"
      ]
    },
    {
      "cell_type": "markdown",
      "metadata": {
        "id": "99jkSa_KmrDH"
      },
      "source": [
        "<a name=\"climate-impact\"></a>\n",
        "# Climate Impact\n",
        "Accurate, reliable, and efficient means of forecasting global weather patterns are of paramount importance to our ability to mitigate and adapt to climate change. Currently, real-time weather forecasting requires repeated numerical simulation and data assimilation cycles on dedicated supercomputers, which restricts the ability to make reliable, high-resolution forecasts to a handful of organizations. However, recent advances in deep learning, specifically the FourCastNet model, have shown that data-driven approaches can forecast important atmospheric variables with excellent skill and comparable accuracy to standard numerical methods, but at orders-of-magnitude lower computational and energy cost during inference, enabling larger ensembles for better probabilistic forecasts. Forecasting these atmospheric variables can have important implications to various areas such as wind and water resource planning, extreme atmospheric events (hurricanes, atmospheric rivers, heat waves) prediction for disaster prepardeness.\n",
        "\n",
        "We envision continuous improvements and development of FourCastNet. This, we hope, will enable the leap from accurate medium-range weather forecasts to seasonal and sub-seasonal forecasts all the way up to long-term probabilistic projections of future climate scenarios conditioned on key inputs such as the rising CO2 concentration."
      ]
    },
    {
      "cell_type": "code",
      "source": [
        "from IPython.display import YouTubeVideo\n",
        "YouTubeVideo('nuT_U1AQz3g')"
      ],
      "metadata": {
        "id": "R2s8dOg1vgVb",
        "colab": {
          "base_uri": "https://localhost:8080/",
          "height": 321
        },
        "outputId": "5aff1d34-916b-4868-db89-05c7906d02c6"
      },
      "execution_count": 9,
      "outputs": [
        {
          "output_type": "execute_result",
          "data": {
            "text/plain": [
              "<IPython.lib.display.YouTubeVideo at 0x7e1b0d9cece0>"
            ],
            "text/html": [
              "\n",
              "        <iframe\n",
              "            width=\"400\"\n",
              "            height=\"300\"\n",
              "            src=\"https://www.youtube.com/embed/nuT_U1AQz3g\"\n",
              "            frameborder=\"0\"\n",
              "            allowfullscreen\n",
              "            \n",
              "        ></iframe>\n",
              "        "
            ],
            "image/jpeg": "[encoded data removed]"
          },
          "metadata": {},
          "execution_count": 9
        }
      ]
    },
    {
      "cell_type": "markdown",
      "metadata": {
        "id": "o5sbM_JPpdMR"
      },
      "source": [
        "<a name=\"target-audience\"></a>\n",
        "# Target Audience\n",
        "\n",
        "The intended audience for this tutorial is anyone interested in using deep learning for research in climate science as well as theoretical and operational weather forecasting. Meteorologists and researcher practitioners in numerical weather prediction, climate science, and earth science will have the most immediate applications for models like FourCastNet, which forecasts atmospheric dynamics with accuracy and speed. Beyond scientific domains, stakeholders in wind energy resource planning, water resource planning, and disaster preparedness may also be interested in tools such as FourCastNet.\n",
        "Because the earth sciences domain has a lot of rich, extremely high-resolution datasets that have different characteristics from typical natural image or video datasets, this tutorial would also be of interest to the general machine learning community. ML practitioners who wish to build better spatiotemporal modeling neural network architectures would benefit from the introduction to the FourCastNet codebase with its well-curated dataset, SOTA accuracy, performance intensive data loading and distributed computing workflows.\n",
        "\n"
      ]
    },
    {
      "cell_type": "markdown",
      "metadata": {
        "id": "gQgijl46pYzn"
      },
      "source": [
        "<a name=\"background-and-prereqs\"></a>\n",
        "# Background & Prerequisites\n",
        "Basic experience in ML models and PyTorch. Prior background in atmospheric science is not expected."
      ]
    },
    {
      "cell_type": "code",
      "execution_count": 10,
      "metadata": {
        "id": "E4aK3MI9qhfJ"
      },
      "outputs": [],
      "source": [
        "# libraries\n",
        "import os, sys, time\n",
        "import numpy as np\n",
        "import h5py\n",
        "import torch\n",
        "import torchvision\n",
        "import torch.nn as nn\n",
        "import matplotlib.pyplot as plt"
      ]
    },
    {
      "cell_type": "markdown",
      "metadata": {
        "id": "rSRCNgYzUwaf"
      },
      "source": [
        "<a name=\"software-requirements\"></a>\n",
        "# Software Requirements\n",
        "Colab provides a PyTorch environment with the bulk of the necessary Python packages. The [offical FourCastNet Dockerfile](https://github.com/NVlabs/FourCastNet/blob/master/docker/Dockerfile) specifies the additional packages needed to run the code, but since Colab doesn't support Docker we install these via pip below."
      ]
    },
    {
      "cell_type": "code",
      "execution_count": 11,
      "metadata": {
        "id": "jObV5LtDk0Vm",
        "colab": {
          "base_uri": "https://localhost:8080/"
        },
        "outputId": "356d6a5f-419d-4c93-c93d-67aa9cf83848"
      },
      "outputs": [
        {
          "output_type": "stream",
          "name": "stdout",
          "text": [
            "Requirement already satisfied: ruamel.yaml in /usr/local/lib/python3.10/dist-packages (0.18.6)\n",
            "Requirement already satisfied: einops in /usr/local/lib/python3.10/dist-packages (0.8.0)\n",
            "Requirement already satisfied: timm in /usr/local/lib/python3.10/dist-packages (1.0.3)\n",
            "Requirement already satisfied: ruamel.yaml.clib>=0.2.7 in /usr/local/lib/python3.10/dist-packages (from ruamel.yaml) (0.2.8)\n",
            "Requirement already satisfied: torch in /usr/local/lib/python3.10/dist-packages (from timm) (2.3.0+cu121)\n",
            "Requirement already satisfied: torchvision in /usr/local/lib/python3.10/dist-packages (from timm) (0.18.0+cu121)\n",
            "Requirement already satisfied: pyyaml in /usr/local/lib/python3.10/dist-packages (from timm) (6.0.1)\n",
            "Requirement already satisfied: huggingface_hub in /usr/local/lib/python3.10/dist-packages (from timm) (0.23.2)\n",
            "Requirement already satisfied: safetensors in /usr/local/lib/python3.10/dist-packages (from timm) (0.4.3)\n",
            "Requirement already satisfied: filelock in /usr/local/lib/python3.10/dist-packages (from huggingface_hub->timm) (3.14.0)\n",
            "Requirement already satisfied: fsspec>=2023.5.0 in /usr/local/lib/python3.10/dist-packages (from huggingface_hub->timm) (2023.6.0)\n",
            "Requirement already satisfied: packaging>=20.9 in /usr/local/lib/python3.10/dist-packages (from huggingface_hub->timm) (24.0)\n",
            "Requirement already satisfied: requests in /usr/local/lib/python3.10/dist-packages (from huggingface_hub->timm) (2.31.0)\n",
            "Requirement already satisfied: tqdm>=4.42.1 in /usr/local/lib/python3.10/dist-packages (from huggingface_hub->timm) (4.66.4)\n",
            "Requirement already satisfied: typing-extensions>=3.7.4.3 in /usr/local/lib/python3.10/dist-packages (from huggingface_hub->timm) (4.12.1)\n",
            "Requirement already satisfied: sympy in /usr/local/lib/python3.10/dist-packages (from torch->timm) (1.12.1)\n",
            "Requirement already satisfied: networkx in /usr/local/lib/python3.10/dist-packages (from torch->timm) (3.3)\n",
            "Requirement already satisfied: jinja2 in /usr/local/lib/python3.10/dist-packages (from torch->timm) (3.1.4)\n",
            "Requirement already satisfied: nvidia-cuda-nvrtc-cu12==12.1.105 in /usr/local/lib/python3.10/dist-packages (from torch->timm) (12.1.105)\n",
            "Requirement already satisfied: nvidia-cuda-runtime-cu12==12.1.105 in /usr/local/lib/python3.10/dist-packages (from torch->timm) (12.1.105)\n",
            "Requirement already satisfied: nvidia-cuda-cupti-cu12==12.1.105 in /usr/local/lib/python3.10/dist-packages (from torch->timm) (12.1.105)\n",
            "Requirement already satisfied: nvidia-cudnn-cu12==8.9.2.26 in /usr/local/lib/python3.10/dist-packages (from torch->timm) (8.9.2.26)\n",
            "Requirement already satisfied: nvidia-cublas-cu12==12.1.3.1 in /usr/local/lib/python3.10/dist-packages (from torch->timm) (12.1.3.1)\n",
            "Requirement already satisfied: nvidia-cufft-cu12==11.0.2.54 in /usr/local/lib/python3.10/dist-packages (from torch->timm) (11.0.2.54)\n",
            "Requirement already satisfied: nvidia-curand-cu12==10.3.2.106 in /usr/local/lib/python3.10/dist-packages (from torch->timm) (10.3.2.106)\n",
            "Requirement already satisfied: nvidia-cusolver-cu12==11.4.5.107 in /usr/local/lib/python3.10/dist-packages (from torch->timm) (11.4.5.107)\n",
            "Requirement already satisfied: nvidia-cusparse-cu12==12.1.0.106 in /usr/local/lib/python3.10/dist-packages (from torch->timm) (12.1.0.106)\n",
            "Requirement already satisfied: nvidia-nccl-cu12==2.20.5 in /usr/local/lib/python3.10/dist-packages (from torch->timm) (2.20.5)\n",
            "Requirement already satisfied: nvidia-nvtx-cu12==12.1.105 in /usr/local/lib/python3.10/dist-packages (from torch->timm) (12.1.105)\n",
            "Requirement already satisfied: triton==2.3.0 in /usr/local/lib/python3.10/dist-packages (from torch->timm) (2.3.0)\n",
            "Requirement already satisfied: nvidia-nvjitlink-cu12 in /usr/local/lib/python3.10/dist-packages (from nvidia-cusolver-cu12==11.4.5.107->torch->timm) (12.5.40)\n",
            "Requirement already satisfied: numpy in /usr/local/lib/python3.10/dist-packages (from torchvision->timm) (1.25.2)\n",
            "Requirement already satisfied: pillow!=8.3.*,>=5.3.0 in /usr/local/lib/python3.10/dist-packages (from torchvision->timm) (9.4.0)\n",
            "Requirement already satisfied: MarkupSafe>=2.0 in /usr/local/lib/python3.10/dist-packages (from jinja2->torch->timm) (2.1.5)\n",
            "Requirement already satisfied: charset-normalizer<4,>=2 in /usr/local/lib/python3.10/dist-packages (from requests->huggingface_hub->timm) (3.3.2)\n",
            "Requirement already satisfied: idna<4,>=2.5 in /usr/local/lib/python3.10/dist-packages (from requests->huggingface_hub->timm) (3.7)\n",
            "Requirement already satisfied: urllib3<3,>=1.21.1 in /usr/local/lib/python3.10/dist-packages (from requests->huggingface_hub->timm) (2.0.7)\n",
            "Requirement already satisfied: certifi>=2017.4.17 in /usr/local/lib/python3.10/dist-packages (from requests->huggingface_hub->timm) (2024.6.2)\n",
            "Requirement already satisfied: mpmath<1.4.0,>=1.1.0 in /usr/local/lib/python3.10/dist-packages (from sympy->torch->timm) (1.3.0)\n",
            "fatal: destination path 'FourCastNet' already exists and is not an empty directory.\n"
          ]
        }
      ],
      "source": [
        "# Skip the below if already installed\n",
        "!pip install ruamel.yaml einops timm\n",
        "# clone fourcastnet\n",
        "!git clone https://github.com/NVlabs/FourCastNet.git"
      ]
    },
    {
      "cell_type": "markdown",
      "metadata": {
        "id": "jXoiLncsU3pe"
      },
      "source": [
        "<a name=\"data-description\"></a>\n",
        "# Data Description\n",
        "  FourCastNet was trained on the publicly available [ERA5](https://confluence.ecmwf.int/display/CKB/ERA5%3A+data+documentation) dataset, provided by the European Center for Medium-range Weather Forecasts (ECMWF). ECMWF is a premier operational and research organization at the cutting edge of Numerical Weather Prediction. The ERA5 dataset consists of hourly estimates of forecasts of several atmoshperic variables at a [latitude and longitude resolution of 0.25 degrees](https://confluence.ecmwf.int/display/CKB/ERA5%3A+What+is+the+spatial+reference), from the surface of the earth to roughly 100 km altitude. ERA5 is an atmospheric reanalysis dataset and is the result of an optimal combination of observations from various measurement sources and the output of a numerical weather prediction model using a Bayesian estimation process called data-assimilation. The dataset is essentially a reconstruction of the optimal estimate of the observed history of the Earth’s atmosphere. While the ERA5 dataset has several prognostic variables available at 37 vertical levels with an hourly resolution, computational and data limitations along with other operational considerations for DL models restricts our choice, based on physical reasoning, to a subset of these available variables. The current release of FourCastNet is trained on 20 prognostic variables (see reference for further details, all variables are also described in this notebook). The ERA5 dataset predictions are defined on a spherical geometry which is interpolated to a latitude-longitude representation. Following this, each of these 20 variables is represented as a 2D field of shape (721x1440) pixels. Further, we also subselect these predictions at a temporal resolution of 6 hours for computational reasons. Hence, the complete dataset consists of tensors at 6 hourly intervals of shape (20x721x1440). While we do not train the model in this notebook, we show users the evaluation pipeline. For this, we subselect few timesteps from a testing year of 2018 for illustrative purposes.\n",
        "\n",
        "Interested users are encouraged to download all the rest of the processed 2018 dataset from the Globus download link at the github [page](https://github.com/NVlabs/FourCastNet). Users are also encouraged to use the helper scripts provided in the github code to pre-process their own ERA5 data for use with FourCastNet."
      ]
    },
    {
      "cell_type": "markdown",
      "metadata": {
        "id": "PoF-BxSM5Jkc"
      },
      "source": [
        "## Data Download\n",
        "The following downloads a sample of the data that will fit in Colab's available disk space. As mentioned before, we take a few timesteps from the 2018 test set as demonstrative examples.\n",
        "\n",
        "The directory structure of the downloaded data reflects that of the [full FourCastNet dataset](https://github.com/NVlabs/FourCastNet) available for download, but is missing the train and validation sets."
      ]
    },
    {
      "cell_type": "code",
      "execution_count": 12,
      "metadata": {
        "id": "3zclV4lUiAo3",
        "colab": {
          "base_uri": "https://localhost:8080/"
        },
        "outputId": "f2d20fb2-579b-4708-94a3-68d996e388e7"
      },
      "outputs": [
        {
          "output_type": "stream",
          "name": "stdout",
          "text": [
            "--2024-06-10 20:51:47--  https://portal.nersc.gov/project/m4134/ccai_demo.tar\n",
            "Resolving portal.nersc.gov (portal.nersc.gov)... 128.55.206.107, 128.55.206.108, 128.55.206.109, ...\n",
            "Connecting to portal.nersc.gov (portal.nersc.gov)|128.55.206.107|:443... connected.\n",
            "HTTP request sent, awaiting response... 200 OK\n",
            "Length: 3998497644 (3.7G) [application/x-tar]\n",
            "Saving to: ‘ccai_demo.tar’\n",
            "\n",
            "ccai_demo.tar       100%[===================>]   3.72G  22.7MB/s    in 3m 9s   \n",
            "\n",
            "2024-06-10 20:54:58 (20.2 MB/s) - ‘ccai_demo.tar’ saved [3998497644/3998497644]\n",
            "\n",
            "./ccai_demo/\n",
            "./ccai_demo/additional/\n",
            "./ccai_demo/additional/stats_v0/\n",
            "./ccai_demo/additional/stats_v0/longitude.npy\n",
            "./ccai_demo/additional/stats_v0/precip/\n",
            "./ccai_demo/additional/stats_v0/precip/time_means.npy\n",
            "./ccai_demo/additional/stats_v0/global_means.npy\n",
            "./ccai_demo/additional/stats_v0/global_stds.npy\n",
            "./ccai_demo/additional/stats_v0/latitude.npy\n",
            "./ccai_demo/additional/stats_v0/land_sea_mask.npy\n",
            "./ccai_demo/additional/stats_v0/time_means.npy\n",
            "./ccai_demo/model_weights/\n",
            "./ccai_demo/model_weights/FCN_weights_v0/\n",
            "./ccai_demo/model_weights/FCN_weights_v0/precip.ckpt\n",
            "./ccai_demo/model_weights/FCN_weights_v0/backbone.ckpt\n",
            "./ccai_demo/data/\n",
            "./ccai_demo/data/FCN_ERA5_data_v0/\n",
            "./ccai_demo/data/FCN_ERA5_data_v0/out_of_sample/\n",
            "./ccai_demo/data/FCN_ERA5_data_v0/out_of_sample/2018.h5\n"
          ]
        }
      ],
      "source": [
        "!wget https://portal.nersc.gov/project/m4134/ccai_demo.tar\n",
        "!tar -xvf ccai_demo.tar\n",
        "!rm ccai_demo.tar"
      ]
    },
    {
      "cell_type": "code",
      "execution_count": 1,
      "metadata": {
        "id": "Qh5FKi6Nopbr",
        "colab": {
          "base_uri": "https://localhost:8080/",
          "height": 211
        },
        "outputId": "f4a31427-2e90-4476-a6b9-92e2650f5481"
      },
      "outputs": [
        {
          "output_type": "error",
          "ename": "NameError",
          "evalue": "name 'os' is not defined",
          "traceback": [
            "\u001b[0;31m---------------------------------------------------------------------------\u001b[0m",
            "\u001b[0;31mNameError\u001b[0m                                 Traceback (most recent call last)",
            "\u001b[0;32m<ipython-input-1-74344dcce457>\u001b[0m in \u001b[0;36m<cell line: 3>\u001b[0;34m()\u001b[0m\n\u001b[1;32m      1\u001b[0m \u001b[0;31m# data and model paths\u001b[0m\u001b[0;34m\u001b[0m\u001b[0;34m\u001b[0m\u001b[0m\n\u001b[1;32m      2\u001b[0m \u001b[0mdata_path\u001b[0m \u001b[0;34m=\u001b[0m \u001b[0;34m\"./ccai_demo/data/FCN_ERA5_data_v0/out_of_sample\"\u001b[0m\u001b[0;34m\u001b[0m\u001b[0;34m\u001b[0m\u001b[0m\n\u001b[0;32m----> 3\u001b[0;31m \u001b[0mdata_file\u001b[0m \u001b[0;34m=\u001b[0m \u001b[0mos\u001b[0m\u001b[0;34m.\u001b[0m\u001b[0mpath\u001b[0m\u001b[0;34m.\u001b[0m\u001b[0mjoin\u001b[0m\u001b[0;34m(\u001b[0m\u001b[0mdata_path\u001b[0m\u001b[0;34m,\u001b[0m \u001b[0;34m\"2018.h5\"\u001b[0m\u001b[0;34m)\u001b[0m\u001b[0;34m\u001b[0m\u001b[0;34m\u001b[0m\u001b[0m\n\u001b[0m\u001b[1;32m      4\u001b[0m \u001b[0mmodel_path\u001b[0m \u001b[0;34m=\u001b[0m \u001b[0;34m\"./ccai_demo/model_weights/FCN_weights_v0/backbone.ckpt\"\u001b[0m\u001b[0;34m\u001b[0m\u001b[0;34m\u001b[0m\u001b[0m\n\u001b[1;32m      5\u001b[0m \u001b[0mglobal_means_path\u001b[0m \u001b[0;34m=\u001b[0m \u001b[0;34m\"./ccai_demo/additional/stats_v0/global_means.npy\"\u001b[0m\u001b[0;34m\u001b[0m\u001b[0;34m\u001b[0m\u001b[0m\n",
            "\u001b[0;31mNameError\u001b[0m: name 'os' is not defined"
          ]
        }
      ],
      "source": [
        "# data and model paths\n",
        "data_path = \"./ccai_demo/data/FCN_ERA5_data_v0/out_of_sample\"\n",
        "data_file = os.path.join(data_path, \"2018.h5\")\n",
        "model_path = \"./ccai_demo/model_weights/FCN_weights_v0/backbone.ckpt\"\n",
        "global_means_path = \"./ccai_demo/additional/stats_v0/global_means.npy\"\n",
        "global_stds_path = \"./ccai_demo/additional/stats_v0/global_stds.npy\"\n",
        "time_means_path = \"./ccai_demo/additional/stats_v0/time_means.npy\"\n",
        "land_sea_mask_path = \"./ccai_demo/additional/stats_v0/land_sea_mask.npy\""
      ]
    },
    {
      "cell_type": "code",
      "execution_count": 14,
      "metadata": {
        "id": "0aBJ5aLZosk-",
        "outputId": "97404385-1a55-4472-ce18-3811386cccb0",
        "colab": {
          "base_uri": "https://localhost:8080/",
          "height": 367
        }
      },
      "outputs": [
        {
          "output_type": "stream",
          "name": "stdout",
          "text": [
            "Requirement already satisfied: utils in /usr/local/lib/python3.10/dist-packages (1.0.2)\n"
          ]
        },
        {
          "output_type": "error",
          "ename": "ModuleNotFoundError",
          "evalue": "No module named 'utils.YParams'",
          "traceback": [
            "\u001b[0;31m---------------------------------------------------------------------------\u001b[0m",
            "\u001b[0;31mModuleNotFoundError\u001b[0m                       Traceback (most recent call last)",
            "\u001b[0;32m<ipython-input-14-faa81722a80c>\u001b[0m in \u001b[0;36m<cell line: 4>\u001b[0;34m()\u001b[0m\n\u001b[1;32m      2\u001b[0m \u001b[0mget_ipython\u001b[0m\u001b[0;34m(\u001b[0m\u001b[0;34m)\u001b[0m\u001b[0;34m.\u001b[0m\u001b[0msystem\u001b[0m\u001b[0;34m(\u001b[0m\u001b[0;34m'pip install utils'\u001b[0m\u001b[0;34m)\u001b[0m\u001b[0;34m\u001b[0m\u001b[0;34m\u001b[0m\u001b[0m\n\u001b[1;32m      3\u001b[0m \u001b[0msys\u001b[0m\u001b[0;34m.\u001b[0m\u001b[0mpath\u001b[0m\u001b[0;34m.\u001b[0m\u001b[0minsert\u001b[0m\u001b[0;34m(\u001b[0m\u001b[0;36m1\u001b[0m\u001b[0;34m,\u001b[0m \u001b[0;34m'./FourCastNet/'\u001b[0m\u001b[0;34m)\u001b[0m \u001b[0;31m# insert code repo into path\u001b[0m\u001b[0;34m\u001b[0m\u001b[0;34m\u001b[0m\u001b[0m\n\u001b[0;32m----> 4\u001b[0;31m \u001b[0;32mfrom\u001b[0m \u001b[0mutils\u001b[0m\u001b[0;34m.\u001b[0m\u001b[0mYParams\u001b[0m \u001b[0;32mimport\u001b[0m \u001b[0mYParams\u001b[0m\u001b[0;34m\u001b[0m\u001b[0;34m\u001b[0m\u001b[0m\n\u001b[0m",
            "\u001b[0;31mModuleNotFoundError\u001b[0m: No module named 'utils.YParams'",
            "",
            "\u001b[0;31m---------------------------------------------------------------------------\u001b[0;32m\nNOTE: If your import is failing due to a missing package, you can\nmanually install dependencies using either !pip or !apt.\n\nTo view examples of installing some common dependencies, click the\n\"Open Examples\" button below.\n\u001b[0;31m---------------------------------------------------------------------------\u001b[0m\n"
          ],
          "errorDetails": {
            "actions": [
              {
                "action": "open_url",
                "actionText": "Open Examples",
                "url": "/notebooks/snippets/importing_libraries.ipynb"
              }
            ]
          }
        }
      ],
      "source": [
        "# Get the model config from default configs\n",
        "!pip install utils\n",
        "sys.path.insert(1, './FourCastNet/') # insert code repo into path\n",
        "from utils.YParams import YParams"
      ]
    },
    {
      "cell_type": "code",
      "execution_count": null,
      "metadata": {
        "id": "ndWgztWUiAo5"
      },
      "outputs": [],
      "source": [
        "# We are going to use a default config. Please see github repo for other config examples\n",
        "config_file = \"./FourCastNet/config/AFNO.yaml\"\n",
        "config_name = \"afno_backbone\"\n",
        "params = YParams(config_file, config_name)\n",
        "print(\"Model architecture used = {}\".format(params[\"nettype\"]))"
      ]
    },
    {
      "cell_type": "markdown",
      "source": [
        "## Data Exploration\n",
        "\n",
        "Here we can inspect the features and spatial structure of some important variables by plotting 2D visualizations. We list the order of atmospheric variables along the channel dimension for reference, and plot snapshots of the 10m horizontal wind (u10), 2m temperature, 500 hPa geopotential height (z500), and total column water vapor (tcwv). Clearly, each variable contains unique characteristics and intrinsic scales; for example, z500 exhibits much smoother features in general compared to the surface-level varaibles which are strongly affected by terrain and coastlines.\n",
        "\n",
        "The variable keys are as follows:\n",
        "\n",
        "* u10: zonal wind at 10m from surface\n",
        "* v10: meridional wind at 10m from surface\n",
        "* t2m: temperature at 2m from surface\n",
        "* sp: surface pressure\n",
        "* msl: pressure reduced to mean sea level\n",
        "* tcwv: total / integrated column of atmospheric water vapor content\n",
        "* u1000 (850, 500): zonal wind at pressure level 1000hPa (850hPa, 500hPa)\n",
        "* v1000 (850, 500): meridional wind at pressure level 1000hPa (850hPa, 500hPa)\n",
        "* t1000 (850, 500): temperature at pressure level 1000hPa (850hPa, 500hPa)\n",
        "* z1000 (850, 500, 50): geopotential height at pressure level 1000hPa (850hPa, 500hPa, 50hPa)\n",
        "* r500, r850: relative humidity at 500hPa, 850hPa\n",
        "\n",
        "\n",
        "For more information on atmospheric variables, see the [ECMWF Parameter database](https://apps.ecmwf.int/codes/grib/param-db) or the copernicus climate data store catalogue of [single level](https://cds.climate.copernicus.eu/cdsapp#!/dataset/reanalysis-era5-single-levels?tab=overview) and [pressure level](https://cds.climate.copernicus.eu/cdsapp#!/dataset/reanalysis-era5-pressure-levels?tab=overview) variables.\n",
        "\n",
        "\n"
      ],
      "metadata": {
        "id": "S9USymi6jHLa"
      }
    },
    {
      "cell_type": "code",
      "source": [
        "'''\n",
        "The ordering of atmospheric variables along the channel dimension is as follows:\n",
        "'''\n",
        "variables = ['u10',\n",
        "             'v10',\n",
        "             't2m',\n",
        "             'sp',\n",
        "             'msl',\n",
        "             't850',\n",
        "             'u1000',\n",
        "             'v1000',\n",
        "             'z1000',\n",
        "             'u850',\n",
        "             'v850',\n",
        "             'z850',\n",
        "             'u500',\n",
        "             'v500',\n",
        "             'z500',\n",
        "             't500',\n",
        "             'z50' ,\n",
        "             'r500',\n",
        "             'r850',\n",
        "             'tcwv']\n",
        "\n",
        "sample_data = h5py.File(data_file, 'r')['fields']\n",
        "print('Total data shape:', sample_data.shape)\n",
        "timestep_idx = 0\n",
        "fig, ax = plt.subplots(nrows=3, ncols=2, figsize=(15, 10))\n",
        "for i, varname in enumerate(['u10', 't2m', 'z500', 'tcwv','v10','msl']):\n",
        "    cm = 'bwr' if varname == 'u10' or varname == 'z500' or varname =='v10' else 'viridis'\n",
        "    varidx = variables.index(varname)\n",
        "    ax[i//2][i%2].imshow(sample_data[timestep_idx, varidx], cmap=cm)\n",
        "    ax[i//2][i%2].set_title(varname)\n",
        "fig.tight_layout()"
      ],
      "metadata": {
        "id": "vn9NT0SLjUZS"
      },
      "execution_count": null,
      "outputs": []
    },
    {
      "cell_type": "markdown",
      "source": [
        "##Model Loading\n",
        "\n",
        "We use the default AFNO backbone configuration as our forecasting model. The [AFNO or Adaptive Fourier Neural Operator](https://arxiv.org/abs/2111.13587) is a neural network architecture based on a vision transformer backbone with the self-attention spatial mixing (interaction between different pixels or image patches) replaced by mixing in the Fourier domain. The basic principle of a vision transformer is simple: the input tensor of size $C \\times H \\times W$ (channel width $C$, height $H$ and width $W$) is projected onto a grid of patches $D \\times H/p \\times W/p$, where $D$ is the projection embedding dimension and $p$ is the patch size. Each of these projected patches interact with each other (known as spatial mixing operation) in a transfomer block through a learned attention matrix (an $O(N^2)$ operation, with $N$ as number of patches) and the transformer block outputs a tensor of the same size as the input. We refer the user to the original vision transformer paper [Alexey Dosovitskiy et al. 2021](https://arxiv.org/abs/2010.11929) for details. The AFNO overcomes the quadratic complexity of mixing by performing the spatial mixing in the frequency domain using Fast Fourier Transforms and shared weights. We refer the user to [Pathak el al., 2022](https://arxiv.org/abs/2202.11214) for further details on the model architecture.\n",
        "\n",
        "The model was trained on 64 GPUs for 6 hours using the configs defined here. We load pretrained weights for making our forecasts.\n",
        "\n",
        "We refer the reader to [Pathak el al., 2022](https://arxiv.org/abs/2202.11214) for FourCastNet benchmark comparisons with state-of-the-art NWP models, i.e., the IFS model of the ECMWF (Figure 6) and prior benchmarks of deep learning data-driven weather models (Figure 10). A comparison of computational cost and energy efficiency is also presented in the referenced preprint in table 2.\n",
        "\n",
        "![afno](https://drive.google.com/uc?id=1Y0mdVHzNIrPju_IactWUbkEdgchM9C0o)"
      ],
      "metadata": {
        "id": "62tpbt6nBJqU"
      }
    },
    {
      "cell_type": "code",
      "execution_count": null,
      "metadata": {
        "id": "506dCT1UiAo6"
      },
      "outputs": [],
      "source": [
        "# import model\n",
        "from networks.afnonet import AFNONet\n",
        "from collections import OrderedDict\n",
        "\n",
        "def load_model(model, params, checkpoint_file):\n",
        "    ''' helper function to load model weights '''\n",
        "    checkpoint_fname = checkpoint_file\n",
        "    checkpoint = torch.load(checkpoint_fname)\n",
        "    try:\n",
        "        ''' FourCastNet is trained with distributed data parallel\n",
        "            (DDP) which prepends 'module' to all keys. Non-DDP\n",
        "            models need to strip this prefix '''\n",
        "        new_state_dict = OrderedDict()\n",
        "        for key, val in checkpoint['model_state'].items():\n",
        "            name = key[7:]\n",
        "            if name != 'ged':\n",
        "                new_state_dict[name] = val\n",
        "        model.load_state_dict(new_state_dict)\n",
        "    except:\n",
        "        model.load_state_dict(checkpoint['model_state'])\n",
        "    model.eval() # set to inference mode\n",
        "    return model\n",
        "\n",
        "device = torch.cuda.current_device() if torch.cuda.is_available() else 'cpu'\n",
        "\n",
        "# in and out channels: FourCastNet uses 20 input channels corresponding to 20 prognostic variables\n",
        "in_channels = np.array(params.in_channels)\n",
        "out_channels = np.array(params.out_channels)\n",
        "params['N_in_channels'] = len(in_channels)\n",
        "params['N_out_channels'] = len(out_channels)\n",
        "params.means = np.load(global_means_path)[0, out_channels] # for normalizing data with precomputed train stats\n",
        "params.stds = np.load(global_stds_path)[0, out_channels]\n",
        "params.time_means = np.load(time_means_path)[0, out_channels]\n",
        "\n",
        "# load the model\n",
        "if params.nettype == 'afno':\n",
        "    model = AFNONet(params).to(device)  # AFNO model\n",
        "else:\n",
        "    raise Exception(\"not implemented\")\n",
        "# load saved model weights\n",
        "model = load_model(model, params, model_path)\n",
        "model = model.to(device)"
      ]
    },
    {
      "cell_type": "markdown",
      "metadata": {
        "id": "qa9Iuu2GU52Z"
      },
      "source": [
        "<a name=\"methodology\"></a>\n",
        "# Methodology\n",
        "\n",
        "In this section, we describe the different steps to compute forecasts. After this tutorial, users should be able to:\n",
        "* Prepare ERA5 data in the right format for FourCastNet\n",
        "* Run FourCastNet inference for timesteps of interest\n",
        "* Analyze the forecast skill and accuracy on extremes for any atmospheric variable predicted by FourCastNet\n",
        "* Use FourCastNet to forecast the track of hurricanes"
      ]
    },
    {
      "cell_type": "markdown",
      "metadata": {
        "id": "yWXsiZ5freTG"
      },
      "source": [
        "## Get training stats for normalization\n",
        "First, we load the mean and standard deviation of all variables across the training dataset. This has been precomputed for convenience, as computing this over 40 years can be resource-intensive. Each mean and standard deviation is of size (20,). All the data is standardized with these values. Further, we also load a temporal mean field that represents the mean field of each variable across all the years: this represents the climatology (the general variation of the field over several years). This is used to compute metrics for evaluation, described later. The climatology is a tensor of size 721x1440 for each of the 20 variables. We discard data from the last row from all variables to get a tensor of shape 720x1440."
      ]
    },
    {
      "cell_type": "code",
      "execution_count": null,
      "metadata": {
        "id": "6CeKQHfyrU7k"
      },
      "outputs": [],
      "source": [
        "# move normalization tensors to gpu\n",
        "# load time means: represents climatology\n",
        "img_shape_x = 720\n",
        "img_shape_y = 1440\n",
        "\n",
        "# means and stds over training data\n",
        "means = params.means\n",
        "stds = params.stds\n",
        "\n",
        "# load climatological means\n",
        "time_means = params.time_means # temporal mean (for every pixel)\n",
        "m = torch.as_tensor((time_means - means)/stds)[:, 0:img_shape_x]\n",
        "m = torch.unsqueeze(m, 0)\n",
        "# these are needed to compute ACC and RMSE metrics\n",
        "m = m.to(device, dtype=torch.float)\n",
        "std = torch.as_tensor(stds[:,0,0]).to(device, dtype=torch.float)\n",
        "\n",
        "print(\"Shape of time means = {}\".format(m.shape))\n",
        "print(\"Shape of std = {}\".format(std.shape))"
      ]
    },
    {
      "cell_type": "markdown",
      "metadata": {
        "id": "o8L28axZ4NVj"
      },
      "source": [
        "\n",
        "## Define metrics to evaluate forecast skill\n",
        "We use the following metrics to evaluate the quality and skill of our predictions:\n",
        "* Weighted root mean squared error (RMSE) for a forecast variable $v$ at forecast time-step $l$ defined as:\n",
        "\\begin{align}\n",
        "\\mathrm{RMSE}(v, l)= \\sqrt{\\frac{1}{NM} \\sum_{m=1}^{M} \\sum_{n=1}^{N} L(m)\\left({X}_{\\text{pred}}(l)[v,j,k]-{X}_{\\text{true}}(l)\\left[v, j, k \\right]\\right)^{2}},\n",
        "\\end{align}\n",
        "where  ${X}_{\\text{pred/true}}(l)\\left[v, m, n \\right]$ represents the value of predicted (/true) variable $v$ at the location denoted by the grid co-ordinates $(m, n)$ at the forecast time-step $l$. Here, $L(m)$ is a latitude weighting factor to account for the curvature of the field defined on a sphere and is defined as:\n",
        "\\begin{align}\n",
        "L(m)=\\frac{\\cos (\\operatorname{lat}(m))}{\\frac{1}{N_{\\text {lat }}} \\sum_{m}^{N_{\\text {lat }}} \\cos (\\operatorname{lat}(m))}.\n",
        "\\end{align}\n",
        "* Weighted anomaly correlation coefficient (ACC) for a forecast variable $v$ at forecast time-step $l$ defined as:\n",
        "\\begin{align}\n",
        "\\mathrm{ACC}(v, l)=\\frac{\\sum_{m, n} L(m) \\tilde{{X}}_{\\text{pred}}(l)\\left[ v, m, n \\right] \\tilde{{X}}_{\\text{true}}(l)\\left[v, m, n\\right]}{\\sqrt{\\sum_{m, n} L(m) \\left( \\tilde{{X} }_{\\text{pred}}(l)\\left[v, m, n\\right]\\right)^{2} \\sum_{m, n} L(m) \\left(\\tilde{{X}}_{\\text{true}}(l)\\left[v, m, n\\right]\\right)^{ 2}}},\n",
        "\\end{align}\n",
        "where $\\tilde{{X}}_{\\text{pred/true}}(l)\\left[v, m, n \\right]$ represents the long-term-mean-subtracted value of predicted (true) variable $v$ at the location denoted by the grid co-ordinates $(m, n)$ at the forecast time-step $l$. The long-term mean of a variable is simply the mean value of that variable over a large number of historical samples in the training dataset. The long-term mean-subtracted variables $\\tilde{{X}}_{\\text{pred/true}}$ represent the anomalies of those variables that are not captured by the long term mean values. The long-term means are precomputed into the time means tensor above."
      ]
    },
    {
      "cell_type": "code",
      "execution_count": null,
      "metadata": {
        "id": "F84arqbriAo8"
      },
      "outputs": [],
      "source": [
        "# define metrics from the definitions above\n",
        "def lat(j: torch.Tensor, num_lat: int) -> torch.Tensor:\n",
        "    return 90. - j * 180./float(num_lat-1)\n",
        "\n",
        "def latitude_weighting_factor(j: torch.Tensor, num_lat: int, s: torch.Tensor) -> torch.Tensor:\n",
        "    return num_lat * torch.cos(3.1416/180. * lat(j, num_lat))/s\n",
        "\n",
        "def weighted_rmse_channels(pred: torch.Tensor, target: torch.Tensor) -> torch.Tensor:\n",
        "    #takes in arrays of size [n, c, h, w]  and returns latitude-weighted rmse for each channel\n",
        "    num_lat = pred.shape[2]\n",
        "    lat_t = torch.arange(start=0, end=num_lat, device=pred.device)\n",
        "    s = torch.sum(torch.cos(3.1416/180. * lat(lat_t, num_lat)))\n",
        "    weight = torch.reshape(latitude_weighting_factor(lat_t, num_lat, s), (1, 1, -1, 1))\n",
        "    result = torch.sqrt(torch.mean(weight * (pred - target)**2., dim=(-1,-2)))\n",
        "    return result\n",
        "\n",
        "def weighted_acc_channels(pred: torch.Tensor, target: torch.Tensor) -> torch.Tensor:\n",
        "    #takes in arrays of size [n, c, h, w]  and returns latitude-weighted acc for each channel\n",
        "    num_lat = pred.shape[2]\n",
        "    lat_t = torch.arange(start=0, end=num_lat, device=pred.device)\n",
        "    s = torch.sum(torch.cos(3.1416/180. * lat(lat_t, num_lat)))\n",
        "    weight = torch.reshape(latitude_weighting_factor(lat_t, num_lat, s), (1, 1, -1, 1))\n",
        "    result = torch.sum(weight * pred * target, dim=(-1,-2)) / torch.sqrt(torch.sum(weight * pred * pred, dim=(-1,-2)) * torch.sum(weight * target *\n",
        "    target, dim=(-1,-2)))\n",
        "    return result"
      ]
    },
    {
      "cell_type": "markdown",
      "source": [
        "## Setup autoregressive inference\n",
        "\n",
        "Obtaining forecasts is done through an autoregressive loop: the initial condition of the atmospheric state is taken from the ERA5 dataset and is recursively passed through the FourCastNet model, i.e., the predicted forecasts are once again fed back into the input stream to get forecasts for several timesteps. We setup a helper function to run autoregressive inference given an initial condition and a prediction/forecast length.\n",
        "\n",
        "![inf](https://drive.google.com/uc?id=1DvjQ95udGjEmrWjxJvVle4tn8H6Oc0T8)\n"
      ],
      "metadata": {
        "id": "yzhboMyJ7wIb"
      }
    },
    {
      "cell_type": "code",
      "execution_count": null,
      "metadata": {
        "id": "_6HotiSW4Pe8"
      },
      "outputs": [],
      "source": [
        "# autoregressive inference helper\n",
        "\n",
        "def inference(data_slice, model, prediction_length, idx):\n",
        "    # create memory for the different stats\n",
        "    n_out_channels = params['N_out_channels']\n",
        "    acc = torch.zeros((prediction_length, n_out_channels)).to(device, dtype=torch.float)\n",
        "    rmse = torch.zeros((prediction_length, n_out_channels)).to(device, dtype=torch.float)\n",
        "\n",
        "    # to conserve GPU mem, only save one channel (can be changed if sufficient GPU mem or move to CPU)\n",
        "    targets = torch.zeros((prediction_length, 1, img_shape_x, img_shape_y)).to(device, dtype=torch.float)\n",
        "    predictions = torch.zeros((prediction_length, 1, img_shape_x, img_shape_y)).to(device, dtype=torch.float)\n",
        "\n",
        "\n",
        "    with torch.no_grad():\n",
        "        for i in range(data_slice.shape[0]):\n",
        "            if i == 0:\n",
        "                first = data_slice[0:1]\n",
        "                future = data_slice[1:2]\n",
        "                pred = first\n",
        "                tar = first\n",
        "                # also save out predictions for visualizing channel index idx\n",
        "                targets[0,0] = first[0,idx]\n",
        "                predictions[0,0] = first[0,idx]\n",
        "                # predict\n",
        "                future_pred = model(first)\n",
        "            else:\n",
        "                if i < prediction_length - 1:\n",
        "                    future = data_slice[i+1:i+2]\n",
        "                future_pred = model(future_pred) # autoregressive step\n",
        "\n",
        "            if i < prediction_length - 1:\n",
        "                predictions[i+1,0] = future_pred[0,idx]\n",
        "                targets[i+1,0] = future[0,idx]\n",
        "\n",
        "            # compute metrics using the ground truth ERA5 data as \"true\" predictions\n",
        "            rmse[i] = weighted_rmse_channels(pred, tar) * std\n",
        "            acc[i] = weighted_acc_channels(pred-m, tar-m)\n",
        "            print('Predicted timestep {} of {}. {} RMS Error: {}, ACC: {}'.format(i, prediction_length, field, rmse[i,idx], acc[i,idx]))\n",
        "\n",
        "            pred = future_pred\n",
        "            tar = future\n",
        "\n",
        "    # copy to cpu for plotting/vis\n",
        "    acc_cpu = acc.cpu().numpy()\n",
        "    rmse_cpu = rmse.cpu().numpy()\n",
        "    predictions_cpu = predictions.cpu().numpy()\n",
        "    targets_cpu = targets.cpu().numpy()\n",
        "\n",
        "    return acc_cpu, rmse_cpu, predictions_cpu, targets_cpu\n"
      ]
    },
    {
      "cell_type": "markdown",
      "source": [
        "First, we read a slice of data corresponding to the forecast length. Here, the initial condition is at 00:00 hours on October 7, 2018 UTC. This serves as an illustrative example because it highlights Hurricane Michael which underwent rapid intensification during the course of its four day trajectory.\n",
        "We keep track of a specific channel for visualization purposes downstream; in principle, we can track all channels, but we restrict ourselves to one channel here because of limited GPU memory and RAM on Colab."
      ],
      "metadata": {
        "id": "SG1najzx0Lte"
      }
    },
    {
      "cell_type": "code",
      "execution_count": null,
      "metadata": {
        "id": "LBgMrdTeiAo9"
      },
      "outputs": [],
      "source": [
        "# setup data for inference\n",
        "dt = 1 # time step (x 6 hours)\n",
        "ic = 0 # start the inference from here\n",
        "prediction_length = 20 # number of steps (x 6 hours)\n",
        "\n",
        "# which field to track for visualization\n",
        "field = 'u10'\n",
        "idx_vis = variables.index(field) # also prints out metrics for this field\n",
        "\n",
        "# get prediction length slice from the data\n",
        "print('Loading inference data')\n",
        "print('Inference data from {}'.format(data_file))\n",
        "data = h5py.File(data_file, 'r')['fields'][ic:(ic+prediction_length*dt):dt,in_channels,0:img_shape_x]\n",
        "print(data.shape)\n",
        "print(\"Shape of data = {}\".format(data.shape))"
      ]
    },
    {
      "cell_type": "markdown",
      "source": [
        "Before we run inference, we standardize the data with precomputed means and standard deviations. In this tutorial, we keep track of metrics for the field \"u10\", which represents the horizontal component of the surface wind velocities. The outputs track the weighted RMSE and ACC values for \"u10\" as a function of timestep."
      ],
      "metadata": {
        "id": "WsNitQmY2SJy"
      }
    },
    {
      "cell_type": "code",
      "execution_count": null,
      "metadata": {
        "id": "prVSKVzaiAo-"
      },
      "outputs": [],
      "source": [
        "# run inference\n",
        "data = (data - means)/stds # standardize the data\n",
        "data = torch.as_tensor(data).to(device, dtype=torch.float) # move to gpu for inference\n",
        "acc_cpu, rmse_cpu, predictions_cpu, targets_cpu = inference(data, model, prediction_length, idx=idx_vis)"
      ]
    },
    {
      "cell_type": "markdown",
      "source": [
        "*Historically, this forecast, using numerical weather prediction models, should have required an entire supercomputer with thousands of cores to run; with FourCastNet, the forecast is obtained in a matter of seconds on a single GPU on Colab!*"
      ],
      "metadata": {
        "id": "1ZbUuXWdT0Ai"
      }
    },
    {
      "cell_type": "markdown",
      "metadata": {
        "id": "ZhkmytKNU_Z2"
      },
      "source": [
        "<a name=\"results-and-discussion\"></a>\n",
        "# Results & Discussion\n",
        "Using the saved tensors from our inference run, we can now evaluate our forecasts."
      ]
    },
    {
      "cell_type": "markdown",
      "source": [
        "## Get quantitative metrics to evaluate forecasts\n",
        "We plot the ACC and RMSE as a function of forecast time. In practice, ACC values above 0.6 are considered to be useful forecasts. We observe that, for example, $u_{10}$ shows good performance up to 4 days. Slower moving fields, such as $z_{500}$ (geopotential height) show great performance for much longer time horizons. Users can change the `field` variable name to analyze the results for different atmospheric variables"
      ],
      "metadata": {
        "id": "_ng74JoaJpBD"
      }
    },
    {
      "cell_type": "code",
      "execution_count": null,
      "metadata": {
        "id": "8LWo6UQzwj37"
      },
      "outputs": [],
      "source": [
        "# plot the acc and rmse metrics\n",
        "fig, ax = plt.subplots(nrows=1, ncols=2, figsize=(15, 5))\n",
        "start = 0\n",
        "end = prediction_length #  < prediction_lenght forecast\n",
        "\n",
        "field = 'u10' # change this to other fields such as z500\n",
        "idx_metric = variables.index(field) # plot metrics for this field\n",
        "\n",
        "hrs = np.arange(0, end*6, 6)\n",
        "ax[0].plot(hrs, acc_cpu[start:end,idx_metric], \"o-\", label=\"FourCastNet\", ms=4, lw=0.7, color=\"r\")\n",
        "ax[1].plot(hrs, rmse_cpu[start:end,idx_metric], \"o-\", label=\"FourCastNet\", ms=4, lw=0.7, color=\"r\")\n",
        "ax[0].legend()\n",
        "ax[1].legend()\n",
        "fsz = \"15\"\n",
        "xlist = np.arange(0,end*6+24,24)\n",
        "ax[0].set_xlabel(\"forecast time (in hrs)\", fontsize=fsz)\n",
        "ax[1].set_xlabel(\"forecast time (in hrs)\", fontsize=fsz)\n",
        "ax[0].set_ylabel(\"ACC\", fontsize=fsz)\n",
        "ax[1].set_ylabel(\"RMSE\", fontsize=fsz)\n",
        "ax[0].set_ylim(0.3, 1.05)\n",
        "ax[0].set_xticks(xlist)\n",
        "ax[1].set_xticks(xlist)\n",
        "ax[0].tick_params(axis='both', which='both', labelsize=12)\n",
        "ax[1].tick_params(axis='both', which='both', labelsize=12)\n",
        "fig.tight_layout()"
      ]
    },
    {
      "cell_type": "markdown",
      "source": [
        "## Visualize forecasts for qualitative assessment\n",
        "We can visualize the spatiotemporal predictions for the channel tracked ($u_{10}$) and visually compare to the ground truth ERA5. We can observe that the predictions track the ground truth very well."
      ],
      "metadata": {
        "id": "R5LpupeT93qS"
      }
    },
    {
      "cell_type": "code",
      "execution_count": null,
      "metadata": {
        "id": "9CUCNsCRiAo-"
      },
      "outputs": [],
      "source": [
        "# visualize spatiotemporal predictions\n",
        "fig, ax = plt.subplots(nrows=1, ncols=2, figsize=(15, 5))\n",
        "t = 2 # at 2x6 hours lead time\n",
        "ax[0].imshow(predictions_cpu[t,0], cmap=\"bwr\")\n",
        "ax[1].imshow(targets_cpu[t,0], cmap=\"bwr\")\n",
        "ax[0].set_title(\"FourCastNet prediction\")\n",
        "ax[1].set_title(\"ERA5 ground truth\")\n",
        "fig.tight_layout()"
      ]
    },
    {
      "cell_type": "markdown",
      "source": [
        "## Assess instantaneous extremes\n",
        "Quantifying extremes is a very important task for predicting rare atmospheric events such as hurricanes, heat waves, and heavy precipitation. We do so by looking at the top quantiles of each field at a given time step. We use 100 logarithmically-spaced quantile bins $Q = 1 - \\{10^{-1}, ..., 10^{-4}\\}$ (corresponding to percentiles $\\{90\\%, ..., 99.99\\% \\}$) to emphasize the most extreme values (generally, the FourCastNet predictions and ERA5 targets match closely up to around the 98$^\\mathrm{th}$ percentile). We choose the 99.99$^{\\mathrm{th}}$ as the top percentile  bin because percentiles beyond there sample less than 1000 pixels in each image and are subject to more variability."
      ],
      "metadata": {
        "id": "iFsspSIRJAEy"
      }
    },
    {
      "cell_type": "code",
      "source": [
        "def quantiles(x, qtile):\n",
        "    ''' helper to compute quantiles based on qtile of the field '''\n",
        "    n, c, h, w = x.shape\n",
        "    return np.quantile(x.reshape((n,c,h*w)), q=qtile, axis=-1).squeeze()"
      ],
      "metadata": {
        "id": "26qkmgWwtq5e"
      },
      "execution_count": null,
      "outputs": []
    },
    {
      "cell_type": "markdown",
      "source": [
        "Let's compute these 100 bins for both our predictions and ERA5 over all the time steps."
      ],
      "metadata": {
        "id": "aVBNY2S2XVFW"
      }
    },
    {
      "cell_type": "code",
      "source": [
        "qs = 100\n",
        "qlim = 4\n",
        "qcut = 1\n",
        "qtile = 1. - np.logspace(-qlim, -qcut, num=qs) # log-spaced bins for quantiles\n",
        "\n",
        "# compute quantiles for the fields saved (channel idx_vis is saved out now)\n",
        "era5_q = quantiles(targets_cpu, qtile)\n",
        "mean_era5 = era5_q.mean(axis=1) # stats over different time points\n",
        "std_era5 = era5_q.std(axis=1)\n",
        "\n",
        "pred_q = quantiles(predictions_cpu, qtile) # for predictions\n",
        "mean_pred = pred_q.mean(axis=1)\n",
        "std_pred = pred_q.std(axis=1)\n",
        "\n",
        "print(era5_q.shape, pred_q.shape)"
      ],
      "metadata": {
        "id": "ZZHwZMvBv-39"
      },
      "execution_count": null,
      "outputs": []
    },
    {
      "cell_type": "markdown",
      "source": [
        "Plotting the quantiles, we observe that the predictions track the extremes well (but do underestimate the extremes from the 90$^{\\mathrm{th}}$ percentile)"
      ],
      "metadata": {
        "id": "PsmlIs7LXePO"
      }
    },
    {
      "cell_type": "code",
      "source": [
        "# plot the extremes\n",
        "plt.figure()\n",
        "fs=15\n",
        "ax = plt.gca() #axs[0]\n",
        "qtiles = np.logspace(-qlim, -qcut, num=qs)\n",
        "ax.plot(qtiles, mean_era5, 'k--', label='ERA5', lw=2)\n",
        "ax.fill_between(qtiles, mean_era5+std_era5, mean_era5-std_era5, alpha=0.2, color='k')\n",
        "ax.plot(qtiles, mean_pred, 'r-', label='FourCastNet', lw=2)\n",
        "ax.fill_between(qtiles, mean_pred+std_pred, mean_pred-std_pred, alpha=0.2, color='r')\n",
        "ax.set_xlim((qtiles[-1], qtiles[0]))\n",
        "ax.set_xscale('log')\n",
        "ax.set_xticks(ticks=10.**np.arange(-1,-qlim - 1, -1))\n",
        "ax.set_xticklabels(labels=['%g%%'%(100.*(1. - 10.**q)) for q in np.arange(-1,-qlim - 1, -1)], fontsize=fs-2)\n",
        "ax.set_xlabel('Percentile', fontsize=fs)\n",
        "ax.set_ylabel('Field', fontsize=fs)\n",
        "ax.legend()\n",
        "plt.tight_layout()"
      ],
      "metadata": {
        "id": "SPKsbka4x4xe"
      },
      "execution_count": null,
      "outputs": []
    },
    {
      "cell_type": "markdown",
      "source": [
        "## Hurricane tracking\n",
        "\n",
        "In this section we demonstrate the use of FourCastNet for forecasting hurricane tracks. We will focus on Michael, a category 5 hurricane on the Saffir-Simpson Hurricane Wind Scale that made landfall in Florida in 2018 and caused\n",
        "catastrophic damage. Michael started as a tropical depression around October 7, 2018 then underwent rapid intensification in the gulf of Mexico, reaching category 5 status before making landfall in Florida on October 10, 2018.\n",
        "\n",
        "We can approximate the center of the hurricane by finding the minimum of the mean surface level pressure in the region of the globe where the tropical depression is forming. By recording the coordinates of the msl minima over time, we can record the track of the storm as it intensifies from a depression into catastrophic hurricane. The sample data from 2018 which we've downloaded in this notebook contains the initial condition on October 7, 2018 as the first time index, so we simply need to run autoregressive inference with the model starting there."
      ],
      "metadata": {
        "id": "dUoJFLPfcJVd"
      }
    },
    {
      "cell_type": "code",
      "source": [
        "# which field to track for visualization\n",
        "field = 'msl' # mean surface level pressure\n",
        "idx_vis = variables.index(field) # also prints out metrics for this field\n",
        "\n",
        "acc_cpu_msl, rmse_cpu_msl, predictions_cpu_msl, targets_cpu_msl = inference(data, model, prediction_length, idx=idx_vis)\n",
        "\n",
        "# destandardize the fields for msl\n",
        "m_msl = params.means[idx_vis,0]\n",
        "s_msl = params.stds[idx_vis,0]\n",
        "\n",
        "pred_msl = s_msl*predictions_cpu_msl + m_msl\n",
        "true_msl = s_msl*targets_cpu_msl + m_msl\n",
        "print(pred_msl.shape, true_msl.shape) # destandardized forecasted and true msl fields"
      ],
      "metadata": {
        "id": "gi4l-6LZcIVN"
      },
      "execution_count": null,
      "outputs": []
    },
    {
      "cell_type": "markdown",
      "source": [
        "Now that we've run inference, let's compute and store the msl minima throughout the forecast period:"
      ],
      "metadata": {
        "id": "03FoHgjVOoge"
      }
    },
    {
      "cell_type": "code",
      "source": [
        "# focus on this region: represents hurricane Michael focus\n",
        "x_min = 1081\n",
        "x_max = 1121\n",
        "y_min = 201\n",
        "y_max = 305\n",
        "\n",
        "track_pred_x = []\n",
        "track_pred_y = []\n",
        "track_true_x = []\n",
        "track_true_y = []\n",
        "\n",
        "\n",
        "t_max = 14 # number of time steps to track the hurricane (roughly the number of steps to reach landfall)\n",
        "timeaxis = np.arange(0,t_max)\n",
        "\n",
        "for t in range(t_max):\n",
        "  min_pressure_predicted = np.min(pred_msl[t,0,y_min:y_max,x_min:x_max])\n",
        "  pred_y = np.where(pred_msl[t,0,y_min:y_max, x_min:x_max] == min_pressure_predicted)[0]\n",
        "  pred_x = np.where(pred_msl[t,0,y_min:y_max, x_min:x_max] == min_pressure_predicted)[1]\n",
        "  track_pred_x.append(pred_x[0])\n",
        "  track_pred_y.append(pred_y[0])\n",
        "\n",
        "\n",
        "  min_pressure_true = np.min(true_msl[t,0,y_min:y_max,x_min:x_max])\n",
        "  true_y = np.where(true_msl[t,0,y_min:y_max, x_min:x_max] == min_pressure_true)[0]\n",
        "  true_x = np.where(true_msl[t,0,y_min:y_max, x_min:x_max] == min_pressure_true)[1]\n",
        "  track_true_x.append(true_x[0])\n",
        "  track_true_y.append(true_y[0])"
      ],
      "metadata": {
        "id": "lVnty74Rmx_M"
      },
      "execution_count": null,
      "outputs": []
    },
    {
      "cell_type": "markdown",
      "source": [
        "By plotting the msl minima of the forecast compared to that of the ground truth, we can see the predicted track closely matches the actual observed outcome for this hurricane:"
      ],
      "metadata": {
        "id": "lVZLlYSZOksg"
      }
    },
    {
      "cell_type": "code",
      "source": [
        "offset = 30\n",
        "lsm = np.load(land_sea_mask_path)[0:720] # land-sea mask to show coastlines\n",
        "plt.figure(figsize=(30, 10))\n",
        "ax = plt.gca()\n",
        "ax.imshow(lsm[y_min-offset:y_max+offset, x_min-offset:x_max+offset], cmap = 'Greys')\n",
        "plt.scatter(np.array(track_true_x) + offset , np.array(track_true_y) + offset, s = 30, marker = 's', c = 'b')\n",
        "plt.plot(np.array(track_true_x) + offset , np.array(track_true_y) + offset, c = 'b', label=\"Truth\")\n",
        "plt.scatter(np.array(track_pred_x) + offset , np.array(track_pred_y) + offset, s = 30, marker = 'o', c = 'r')\n",
        "plt.plot(np.array(track_pred_x) + offset , np.array(track_pred_y) + offset, c = 'r', label=\"Forecast\")\n",
        "plt.legend()"
      ],
      "metadata": {
        "id": "PbHTSN_4nmAq"
      },
      "execution_count": null,
      "outputs": []
    },
    {
      "cell_type": "markdown",
      "source": [
        "While we are somewhat resorce-limited running on Colab, note in general one could run an ensemble of forecasts by perturbing the initial conditions and model predictions with noise. We refer the users to [the paper](https://arxiv.org/abs/2202.11214) for more details on such an approach."
      ],
      "metadata": {
        "id": "EESiMwCMPaIg"
      }
    },
    {
      "cell_type": "markdown",
      "metadata": {
        "id": "oHIjM6eMwlXY"
      },
      "source": [
        "## Limitations\n",
        "*   One of the limitations of FourCastNet is that it does not perform data assimilation with observations; we are dependent on a dataset such as ERA5 to provide us real-time initial conditions. However, once obtained, the forecasts for a week or two can be generated blazingly fast\n",
        "*   The current resolution of 25 km is still coarse to capture finer scale structures of sub-grid processes. We would have to go to 5 km scale (and finer) for resolving these. Of course, at these scales, compute and memory challenges are significant. We refer the reader to [Kurth et al. (2022)](https://arxiv.org/abs/2208.05419) for a model-parallel version to deal with these high resolutions. This is still work-in-progress.\n",
        "* FourCastNet is a fully data-driven model without physics constraints.\n",
        "This means that the model could be subject to some unphysical instabilities that are not present in traditional numerical weather predicition. We are working on introducing physics constraints into the next version of FourCastNet.\n",
        "* Currently, FourCastNet is intended as a weather model and its behaviour on climate time scales is not understood well. We, eventually, envision a coupling between a climate model output and FourCastNet in order to understand extreme weather in future climate scenarios."
      ]
    },
    {
      "cell_type": "markdown",
      "metadata": {
        "id": "CLLCQpv14Gsx"
      },
      "source": [
        "## Next Steps\n",
        "\n",
        "In this notebook, we have seen how to format and normalize ERA5 data and run inference with FourCastNet, storing forecast outputs and using them for analysis tasks like evaluating forecast skill, assessing instantaneous extremes, and predicting hurricane tracks. However, these general steps enable users to use FourCastNet for a much wider set of use-cases.\n",
        "\n",
        "One immediate application of FourCastNet in the data-driven modeling area is to use the pretrained backbone model as a building block or foundation for training other models to make predictions for a specific variable or region of interest. In this setting, FourCastNet outputs can be used as initial or boundary conditions for tasks not included in the general forecasting task used for pretraining. For example, one could train a model to predict a specific variable of interest not included in the main FourCastNet backbone (e.g., 100m winds which may be of interest to wind energy stakeholders), or train a regional high-resolution model which depends on FourCastNet for boundary conditions.\n",
        "\n",
        "While this notebook did not demonstrate actual model training due to resource constraints, the main FourCastNet repository includes code for training and we encourage users to now work on training the model themselves. This is complementary to the aforementioned idea of adapting FourCastNet for whatever use-cases are most important to a given stakeolder; the pretrained model weights provide a good initialization for fine-tuning, so can even accelerate the time-to-solution even for novel tasks that were not included in the main model training."
      ]
    },
    {
      "cell_type": "code",
      "source": [],
      "metadata": {
        "id": "uQxb0APYOgat"
      },
      "execution_count": null,
      "outputs": []
    }
  ],
  "metadata": {
    "colab": {
      "provenance": [],
      "include_colab_link": true
    },
    "kernelspec": {
      "display_name": "Python 3",
      "name": "python3"
    },
    "language_info": {
      "name": "python"
    },
    "accelerator": "GPU"
  },
  "nbformat": 4,
  "nbformat_minor": 0
}